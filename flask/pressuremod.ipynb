{
 "cells": [
  {
   "cell_type": "code",
   "execution_count": 6,
   "metadata": {},
   "outputs": [
    {
     "name": "stdout",
     "output_type": "stream",
     "text": [
      "   pressure1  pressure2  pressure3  pressure4  pressure5  pressure6  \\\n",
      "0       3174       3507        860       1294       1130       1095   \n",
      "1        702       2449       2777       1579        161        201   \n",
      "2       3646        863       2790       3312        563       1020   \n",
      "3       3296       2432       3474       1661       1153       1076   \n",
      "4       3991        627        586       1648       4039       1443   \n",
      "\n",
      "   pressure7  pressure8  pressure9  pressure10  ...  pressure92  pressure93  \\\n",
      "0       3772       3092       1638        2169  ...        3459        3073   \n",
      "1       1981        995       2317        3934  ...        2842         392   \n",
      "2         95       1923       1757        2532  ...         698        2160   \n",
      "3       1707       2777       1695        1733  ...        1682        2863   \n",
      "4       1445        103       3923         253  ...        3420        2544   \n",
      "\n",
      "   pressure94  pressure95  pressure96  pressure97  pressure98  pressure99  \\\n",
      "0        1021        3461        2613        1129        3843        3893   \n",
      "1         206        1038        1881        3625        2939        1484   \n",
      "2           1         641        2267        1589         854        4068   \n",
      "3        2255        1154         403        2199        2101        3191   \n",
      "4         301         180         606        3170         699         992   \n",
      "\n",
      "   pressure100  sleep  \n",
      "0         1500      1  \n",
      "1         3762      1  \n",
      "2         1759      1  \n",
      "3         1696      1  \n",
      "4         1139      1  \n",
      "\n",
      "[5 rows x 101 columns]\n"
     ]
    }
   ],
   "source": [
    "import pandas as pd\n",
    "import numpy as np\n",
    "\n",
    "np.random.seed(42)\n",
    "\n",
    "num_rows = 6000\n",
    "num_columns = 100\n",
    "pressure_columns = ['pressure' + str(i) for i in range(1, num_columns + 1)]\n",
    "\n",
    "# Generate random pressure values between 0 and 4095 for each column\n",
    "pressure_values = np.random.randint(0, 4096, size=(num_rows, num_columns))\n",
    "\n",
    "# Count the number of pressure values less than 1000 in each row\n",
    "pressure_below_threshold = np.sum(pressure_values < 1000, axis=1)\n",
    "\n",
    "# Set sleep column based on the condition: if pressure_below_threshold < 40, sleep = 0, else sleep = 1\n",
    "sleep_values = np.where(pressure_below_threshold < 40, 0, 1)\n",
    "\n",
    "# Shuffle the sleep values to ensure half of them are 1 and half are 0\n",
    "np.random.shuffle(sleep_values)\n",
    "\n",
    "# Create DataFrame with pressure columns and sleep column\n",
    "df = pd.DataFrame(pressure_values, columns=pressure_columns)\n",
    "df['sleep'] = sleep_values\n",
    "\n",
    "# Count the number of rows with sleep equal to 1\n",
    "count_sleep_1 = np.sum(df['sleep'] == 1)\n",
    "\n",
    "# Adjust sleep values if needed to ensure 3000 rows have sleep equal to 1\n",
    "if count_sleep_1 < num_rows // 2:\n",
    "    diff = (num_rows // 2) - count_sleep_1\n",
    "    indices_sleep_0 = df[df['sleep'] == 0].index[:diff]\n",
    "    df.loc[indices_sleep_0, 'sleep'] = 1\n",
    "\n",
    "# Save DataFrame to CSV\n",
    "df.to_csv('dummy_pressure_dataset.csv', index=False)\n",
    "\n",
    "print(df.head())\n"
   ]
  },
  {
   "cell_type": "code",
   "execution_count": 7,
   "metadata": {},
   "outputs": [
    {
     "data": {
      "text/plain": [
       "['pressure_model2.pkl']"
      ]
     },
     "execution_count": 7,
     "metadata": {},
     "output_type": "execute_result"
    }
   ],
   "source": [
    "import pandas as pd\n",
    "from sklearn.model_selection import train_test_split\n",
    "from sklearn.preprocessing import StandardScaler\n",
    "from sklearn.neighbors import KNeighborsClassifier\n",
    "import joblib\n",
    "\n",
    "df = pd.read_csv('dummy_pressure_dataset.csv')\n",
    "X = df.drop('sleep', axis=1)\n",
    "y = df['sleep']\n",
    "X_train, X_test, y_train, y_test = train_test_split(X, y, test_size=0.2, random_state=42)\n",
    "scaler = StandardScaler()\n",
    "X_train_scaled = scaler.fit_transform(X_train)\n",
    "X_test_scaled = scaler.transform(X_test)\n",
    "clf = KNeighborsClassifier(n_neighbors=15)\n",
    "clf.fit(X_train_scaled, y_train)\n",
    "joblib.dump(clf, 'pressure_model2.pkl')\n"
   ]
  },
  {
   "cell_type": "code",
   "execution_count": 11,
   "metadata": {},
   "outputs": [
    {
     "name": "stdout",
     "output_type": "stream",
     "text": [
      "Predicted 'sleep' value for the test data: 0\n"
     ]
    }
   ],
   "source": [
    "import numpy as np\n",
    "import joblib\n",
    "\n",
    "# Load the trained KNeighborsClassifier model from the pickle file\n",
    "clf = joblib.load('pressure_model2.pkl')\n",
    "\n",
    "# Generate random test data for one row\n",
    "num_columns = 100\n",
    "test_data = np.random.randint(0, 4096, size=(1, num_columns))\n",
    "\n",
    "# Make predictions on the test data\n",
    "prediction = clf.predict(test_data)\n",
    "\n",
    "# Print the predicted 'sleep' value for the test data\n",
    "predicted_sleep = prediction[0]  # Assuming prediction is a NumPy array with one element\n",
    "print(\"Predicted 'sleep' value for the test data:\", predicted_sleep)\n"
   ]
  }
 ],
 "metadata": {
  "kernelspec": {
   "display_name": "venv",
   "language": "python",
   "name": "python3"
  },
  "language_info": {
   "codemirror_mode": {
    "name": "ipython",
    "version": 3
   },
   "file_extension": ".py",
   "mimetype": "text/x-python",
   "name": "python",
   "nbconvert_exporter": "python",
   "pygments_lexer": "ipython3",
   "version": "3.12.1"
  }
 },
 "nbformat": 4,
 "nbformat_minor": 2
}
